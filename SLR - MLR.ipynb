{
 "cells": [
  {
   "cell_type": "markdown",
   "id": "044b7f67-8879-4713-9cfe-979f369f2657",
   "metadata": {},
   "source": [
    "# <h1 align=\"center\"> © RsydMathTech. <h1/>"
   ]
  },
  {
   "cell_type": "markdown",
   "id": "4c91c281-25b3-4744-bdbd-ac7e505a7993",
   "metadata": {},
   "source": [
    "# <span style=\"color:lightgreen; font-size:18px;\">Simple Linear Regression - Multiple Linear Regression</span>"
   ]
  },
  {
   "cell_type": "markdown",
   "id": "ab6776e3-7cd2-4728-886b-c45f92239945",
   "metadata": {},
   "source": [
    "# Linear Regression\n",
    "\n",
    "## 1. Simple Linear Regression (SLR)\n",
    "**Konsep:**  \n",
    "Model yang menghubungkan **1 variabel independen (X)** dengan **1 variabel dependen (y)**.  \n",
    "\n",
    "**Persamaan umum:**  \n",
    "$ y = b_0 + b_1x $\n",
    "\n",
    "- $b_0$ : Intercept (konstanta)  \n",
    "- $b_1$ : Slope (koefisien, pengaruh X terhadap y)  \n",
    "\n",
    "**Contoh (highway_mpg → price):**  \n",
    "$ Price = b_0 + b_1 \\cdot highway\\_mpg $\n",
    "\n",
    "**Interpretasi:**  \n",
    "Jika `highway_mpg` naik 1, maka harga mobil berubah sebesar $b_1$.\n",
    "\n",
    "---\n",
    "\n",
    "## 2. Multiple Linear Regression (MLR)\n",
    "**Konsep:**  \n",
    "Model yang menghubungkan **lebih dari 1 variabel independen (X1, X2, ...)** dengan **1 variabel dependen (y)**.  \n",
    "\n",
    "**Persamaan umum:**  \n",
    "$ y = b_0 + b_1x_1 + b_2x_2 + \\dots + b_nx_n $\n",
    "\n",
    "**Contoh (highway_mpg, engine_size, horsepower → price):**  \n",
    "$ Price = b_0 + b_1 \\cdot highway\\_mpg + b_2 \\cdot engine\\_size + b_3 \\cdot horsepower $\n",
    "\n",
    "**Interpretasi:**  \n",
    "- $b_1$: perubahan harga jika `highway_mpg` naik 1 (fitur lain tetap).  \n",
    "- $b_2$: perubahan harga jika `engine_size` naik 1 (fitur lain tetap).  \n",
    "- $b_3$: perubahan harga jika `horsepower` naik 1 (fitur lain tetap).  \n",
    "\n",
    "## 3. Workflow\n",
    "1. **Import & siapkan data**  \n",
    "2. **Pisahkan X (fitur) dan y (target)**  \n",
    "3. **Fit model** → `lm.fit(X, y)`  \n",
    "4. **Lihat parameter** → `lm.intercept_`, `lm.coef_`  \n",
    "5. **Prediksi data baru** → `lm.predict()`  \n",
    "6. **Visualisasi (opsional)** → scatter + line (SLR lebih mudah divisualisasikan)\n",
    "\n",
    "---\n",
    "\n",
    "## 4. Intinya\n",
    "- **SLR** → hanya 1 variabel prediktor → garis lurus di grafik 2D.  \n",
    "- **MLR** → banyak variabel prediktor → modelnya berupa bidang/hyperplane.  \n",
    "- Semakin relevan fiturnya → semakin akurat prediksi."
   ]
  },
  {
   "cell_type": "code",
   "execution_count": 2,
   "id": "f50257a9-1da1-48ed-8ca8-d31675bd879f",
   "metadata": {},
   "outputs": [
    {
     "name": "stdout",
     "output_type": "stream",
     "text": [
      "Intercept: 46600.0\n",
      "Slope: -1160.0\n",
      "Prediksi mpg=20: 23400.0\n"
     ]
    },
    {
     "data": {
      "image/png": "[encoded data removed]",
      "text/plain": [
       "<Figure size 640x480 with 1 Axes>"
      ]
     },
     "metadata": {},
     "output_type": "display_data"
    }
   ],
   "source": [
    "import pandas as pd\n",
    "import matplotlib.pyplot as plt\n",
    "from sklearn.linear_model import LinearRegression\n",
    "\n",
    "# Data\n",
    "df = pd.DataFrame({\n",
    "    \"highway_mpg\": [10, 15, 20, 25, 30],\n",
    "    \"price\": [35000, 30000, 22000, 18000, 12000]\n",
    "})\n",
    "\n",
    "X = df[[\"highway_mpg\"]]   # predictor\n",
    "y = df[\"price\"]           # target\n",
    "\n",
    "# Fit model\n",
    "lm = LinearRegression()\n",
    "lm.fit(X, y)\n",
    "\n",
    "# Parameter\n",
    "print(\"Intercept:\", lm.intercept_)\n",
    "print(\"Slope:\", lm.coef_[0])\n",
    "\n",
    "# Prediction\n",
    "sample = pd.DataFrame({\"highway_mpg\": [20]})\n",
    "print(\"Prediksi mpg=20:\", lm.predict(sample)[0])\n",
    "\n",
    "# Visualisasi\n",
    "plt.scatter(X, y, color=\"blue\")\n",
    "plt.plot(X, lm.predict(X), color=\"red\")\n",
    "plt.xlabel(\"Highway MPG\")\n",
    "plt.ylabel(\"Price\")\n",
    "plt.show()\n"
   ]
  },
  {
   "cell_type": "code",
   "execution_count": 3,
   "id": "78e08c18-1655-4158-b4cb-21f7a42f80f0",
   "metadata": {},
   "outputs": [
    {
     "name": "stdout",
     "output_type": "stream",
     "text": [
      "Intercept: 499.9999999999927\n",
      "Coefficients: [-333.33333333  116.66666667   83.33333333]\n",
      "Prediksi harga: 22500.0\n"
     ]
    }
   ],
   "source": [
    "import pandas as pd\n",
    "from sklearn.linear_model import LinearRegression\n",
    "\n",
    "# Data contoh\n",
    "df = pd.DataFrame({\n",
    "    \"highway_mpg\": [10, 15, 20, 25, 30],\n",
    "    \"engine_size\": [200, 180, 160, 150, 120],\n",
    "    \"horsepower\": [180, 150, 120, 100, 90],\n",
    "    \"price\": [35000, 30000, 22000, 18000, 12000]\n",
    "})\n",
    "\n",
    "X = df[[\"highway_mpg\", \"engine_size\", \"horsepower\"]]  # predictors\n",
    "y = df[\"price\"]                                       # target\n",
    "\n",
    "# Fit model\n",
    "lm = LinearRegression()\n",
    "lm.fit(X, y)\n",
    "\n",
    "# Parameter\n",
    "print(\"Intercept:\", lm.intercept_)\n",
    "print(\"Coefficients:\", lm.coef_)\n",
    "\n",
    "# Prediction\n",
    "sample = pd.DataFrame({\n",
    "    \"highway_mpg\": [20],\n",
    "    \"engine_size\": [160],\n",
    "    \"horsepower\": [120]\n",
    "})\n",
    "print(\"Prediksi harga:\", lm.predict(sample)[0])\n"
   ]
  },
  {
   "cell_type": "code",
   "execution_count": null,
   "id": "c5d3e009-cf73-4120-9ecf-127b6f1e3213",
   "metadata": {},
   "outputs": [],
   "source": []
  }
 ],
 "metadata": {
  "kernelspec": {
   "display_name": "Python 3 (ipykernel)",
   "language": "python",
   "name": "python3"
  },
  "language_info": {
   "codemirror_mode": {
    "name": "ipython",
    "version": 3
   },
   "file_extension": ".py",
   "mimetype": "text/x-python",
   "name": "python",
   "nbconvert_exporter": "python",
   "pygments_lexer": "ipython3",
   "version": "3.12.7"
  }
 },
 "nbformat": 4,
 "nbformat_minor": 5
}
